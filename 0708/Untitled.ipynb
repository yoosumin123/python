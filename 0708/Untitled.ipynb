{
 "cells": [
  {
   "cell_type": "code",
   "execution_count": 2,
   "id": "7e74a037",
   "metadata": {},
   "outputs": [
    {
     "name": "stdout",
     "output_type": "stream",
     "text": [
      "('apple', 'banana', 'grape')\n",
      "apple\n",
      "apple banana grape \n",
      "[1, 2, 3, 4]\n",
      "set= {1, 2, 3}\n",
      "set= {1, 2, 3, 4, 5}\n",
      "x=%2 {2, 4}\n",
      "교집합 {'banana', 'apple'}\n",
      "합집합 {'apple', 'grape', 'banana', 'kiwi'}\n",
      "차집합 {'grape'}\n"
     ]
    }
   ],
   "source": [
    "# 튜플 / 딕셔너리 / 세트\n",
    "# 튜플 - 변경불가 - ()\n",
    "fruits = (\"apple\", \"banana\", \"grape\")\n",
    "print(fruits)\n",
    "print(fruits[0])\n",
    "for f in fruits :\n",
    "    print(f, end=\" \")\n",
    "\n",
    "# 튜플을 리스트로\n",
    "myTuple=(1,2,3,4)\n",
    "myList =list(myTuple)\n",
    "print()\n",
    "print(myList)\n",
    "    \n",
    "# 딕셔너리 - key/value - {} 키와 값이 들어감\n",
    "\n",
    "\n",
    "# 세트 - 중복불가 - {} 값만 들어감\n",
    "numbers = {1, 2, 3}\n",
    "print(\"set=\", numbers)\n",
    "\n",
    "numbers = set([1,2,2,3,4,5,5]) # 중복을 허락하지 않음\n",
    "print(\"set=\", numbers)\n",
    "\n",
    "# 세트 함축 연산\n",
    "aList = [1,2,3,4,5,1,2]\n",
    "result = {x for x in aList if x % 2 == 0}\n",
    "print(\"x=%2\", result)\n",
    "\n",
    "# 세트 - 교집합 / 합집합 / 차집합\n",
    "A = { \"apple\", \"banana\", \"grape\"}\n",
    "B = { \"apple\", \"banana\", \"kiwi\"}\n",
    "C = A & B\n",
    "D = A | B\n",
    "E = A - B\n",
    "print(\"교집합\", C)\n",
    "print(\"합집합\", D)\n",
    "print(\"차집합\", E)"
   ]
  }
 ],
 "metadata": {
  "kernelspec": {
   "display_name": "Python 3 (ipykernel)",
   "language": "python",
   "name": "python3"
  },
  "language_info": {
   "codemirror_mode": {
    "name": "ipython",
    "version": 3
   },
   "file_extension": ".py",
   "mimetype": "text/x-python",
   "name": "python",
   "nbconvert_exporter": "python",
   "pygments_lexer": "ipython3",
   "version": "3.9.12"
  }
 },
 "nbformat": 4,
 "nbformat_minor": 5
}
