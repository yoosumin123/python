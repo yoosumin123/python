{
 "cells": [
  {
   "cell_type": "code",
   "execution_count": null,
   "id": "0081ec1e",
   "metadata": {
    "scrolled": true
   },
   "outputs": [],
   "source": [
    "# 리스트 기본 기능 정리\n",
    "menu = 0\n",
    "friends = []\n",
    "while menu != 9 :\n",
    "    print(\" --------- \")\n",
    "    print(\"1. 친구 리스트 출력 \")\n",
    "    print(\"2. 친구 추가  \")\n",
    "    print(\"3. 친구 삭제  \")\n",
    "    print(\"4. 이름변경  \")\n",
    "    print(\"9. 종료  \")\n",
    "    menu = int(input(\"메뉴를 선택 :\"))\n",
    "    if menu == 1 :\n",
    "        print(friends)\n",
    "    elif menu == 2 :\n",
    "        name = input(\"이름을 입력하세요 :\")\n",
    "        friends.append(name)\n",
    "    elif menu == 3 :\n",
    "        del_name = input(\"삭제하고 싶은 이름을 입력하세요 :\")\n",
    "        if del_name in friends :\n",
    "            friends.remove(del_name)\n",
    "        else :\n",
    "            print(\"이름이 발견되지 않았습니다.\")\n",
    "    elif menu == 4 :\n",
    "        old_name = input(\"변경하고 싶은 이름을 입력하세요 :\")\n",
    "        if old_name in friends :\n",
    "            index = friends.index(old_name)\n",
    "            new_name = input(\"새로운 이름을 입력하세요\")\n",
    "            friends[index] = new_name\n",
    "        else :\n",
    "            (\"이름이 발견되지 않았습니다.\")\n"
   ]
  },
  {
   "cell_type": "code",
   "execution_count": 1,
   "id": "db98aa2b",
   "metadata": {},
   "outputs": [
    {
     "name": "stdout",
     "output_type": "stream",
     "text": [
      "병합 : ['아이언맨', '토르', '헐크', '스칼렛']\n",
      "반복 :  [1, 2, 3, 4, 1, 2, 3, 4, 1, 2, 3, 4]\n",
      "비교 list1 == list2 : True\n",
      "비교 list2 == list3 : False\n"
     ]
    }
   ],
   "source": [
    "# 리스트 병합, 복제, 비교\n",
    "# 병합\n",
    "heroes1 = [\"아이언맨\", \"토르\"]\n",
    "heroes2 = [\"헐크\", \"스칼렛\"]\n",
    "avengers = heroes1 + heroes2\n",
    "print(\"병합 :\", avengers)\n",
    "# 복제\n",
    "numbers = [1, 2, 3, 4]*3\n",
    "print(\"반복 : \", numbers)\n",
    "# 비교\n",
    "list1 = [1, 2, 3, 4]\n",
    "list2 = [1, 2, 3, 4]\n",
    "list3 = [3, 4, 5, 6]\n",
    "print(\"비교 list1 == list2 :\", list1 == list2)\n",
    "print(\"비교 list2 == list3 :\", list2 == list3)"
   ]
  },
  {
   "cell_type": "code",
   "execution_count": 3,
   "id": "9eb0513f",
   "metadata": {},
   "outputs": [
    {
     "name": "stdout",
     "output_type": "stream",
     "text": [
      "[38, 31, 33, 35, 27, 26, 25]\n",
      "[38, 31, 33, 39, 27, 26, 25]\n",
      "2009140101632\n",
      "2009140101632\n"
     ]
    }
   ],
   "source": [
    "# 리스트 복사\n",
    "temps = [38, 31, 33, 35, 27, 26, 25]\n",
    "valus = temps\n",
    "\n",
    "print(temps)\n",
    "\n",
    "valus[3] = 39\n",
    "print(temps)\n",
    "\n",
    "print(id(temps))\n",
    "print(id(valus))"
   ]
  },
  {
   "cell_type": "code",
   "execution_count": 2,
   "id": "1486fc62",
   "metadata": {
    "scrolled": true
   },
   "outputs": [
    {
     "name": "stdout",
     "output_type": "stream",
     "text": [
      "2009054276016\n",
      "2009054276016\n",
      "2009054276016\n",
      "2009054276080\n"
     ]
    }
   ],
   "source": [
    "# temps01\n",
    "# 파이썬은 기본적으로 객체\n",
    "# 같은 값 => 같은 주소\n",
    "\n",
    "a=5\n",
    "b=5\n",
    "print(id(a))\n",
    "print(id(b))\n",
    "\n",
    "a=5\n",
    "b=7\n",
    "print(id(a))\n",
    "print(id(b))"
   ]
  },
  {
   "cell_type": "code",
   "execution_count": 4,
   "id": "ac0cdb22",
   "metadata": {},
   "outputs": [
    {
     "name": "stdout",
     "output_type": "stream",
     "text": [
      "수행시간= 2.9881603717803955\n",
      "수행시간= 0.006985664367675781\n"
     ]
    }
   ],
   "source": [
    "# temps02\n",
    "# 리스트 추가 방법에 따른 시간 테스트\n",
    "\n",
    "import time\n",
    "SIZE = 50000\n",
    "\n",
    "start_time = time.time()  # 현재시간\n",
    "myList = []\n",
    "for i in range(SIZE) :     # 5만번 돌리기\n",
    "    myList = myList + [i*i]    # myList에 집어넣기 -> 대입연산자 -- 재설정\n",
    "print(\"수행시간=\", time.time() - start_time)\n",
    "\n",
    "start_time = time.time()  # 현재시간 초기화\n",
    "myList = []\n",
    "for i in range(SIZE) :\n",
    "    myList.append(i*i)    # myList에 집어넣기 -> append  -- 단순히 추가\n",
    "print(\"수행시간=\", time.time() - start_time)"
   ]
  },
  {
   "cell_type": "code",
   "execution_count": 11,
   "id": "b7e67671",
   "metadata": {
    "scrolled": false
   },
   "outputs": [
    {
     "name": "stdout",
     "output_type": "stream",
     "text": [
      "[30, 40, 50, 60, 70]\n",
      "[10, 20, 30]\n",
      "[40, 50, 60, 70, 80, 90]\n",
      "[10, 20, 30, 40, 50, 60, 70, 80, 90]\n",
      "리스트-1 : [10, 20, 30, 40, 50, 60, 70, 80, 90]\n"
     ]
    }
   ],
   "source": [
    "# 슬라이싱 - 한 번에 여러개의 항목을 추출하는 기법\n",
    "# : -> 범위를 나타낸다\n",
    "# 뒤끝이 있다.\n",
    "numbers = [10, 20, 30, 40, 50, 60, 70, 80, 90]\n",
    "sublist = numbers[2:7]\n",
    "print(sublist)\n",
    "prelist = numbers[:3]\n",
    "print(prelist)\n",
    "postlist = numbers[3:]\n",
    "print(postlist)\n",
    "alllist = numbers[:]   # : (콜론)만 사용하면 전체를 의미\n",
    "print(alllist)\n",
    "\n",
    "numbers[:: -1]\n",
    "print(\"리스트-1 :\", numbers)"
   ]
  },
  {
   "cell_type": "code",
   "execution_count": 13,
   "id": "fba1e75f",
   "metadata": {
    "scrolled": false
   },
   "outputs": [
    {
     "name": "stdout",
     "output_type": "stream",
     "text": [
      "[30, 50, 70]\n",
      "[90, 80, 70, 60, 50, 40, 30, 20, 10]\n"
     ]
    }
   ],
   "source": [
    "# 리스트 [start : stop : step]\n",
    "numbers = [10, 20, 30, 40, 50, 60, 70, 80, 90]\n",
    "sublist = numbers[2:7:2]\n",
    "print(sublist)\n",
    "\n",
    "revNumber = numbers[::-1]\n",
    "print(revNumber)"
   ]
  },
  {
   "cell_type": "code",
   "execution_count": 19,
   "id": "1263233f",
   "metadata": {
    "scrolled": true
   },
   "outputs": [
    {
     "name": "stdout",
     "output_type": "stream",
     "text": [
      "['white', 'blue', 'red', 4, 5, 6, 7, 8]\n",
      "[99, 2, 99, 4, 99, 6, 99, 8]\n",
      "[]\n"
     ]
    }
   ],
   "source": [
    "# 슬라이스 응용\n",
    "lst = [1, 2, 3, 4, 5, 6, 7, 8]\n",
    "lst[0:3] = ['white', 'blue', 'red']\n",
    "print(lst)\n",
    "\n",
    "lst = [1, 2, 3, 4, 5, 6, 7, 8]\n",
    "lst[::2] = [99,99,99,99]\n",
    "print(lst)\n",
    "\n",
    "lst = [1, 2, 3, 4, 5, 6, 7, 8]\n",
    "lst[:] = [ ]  # 리스트 전체에 대해 공백을 줘라\n",
    "print(lst)"
   ]
  },
  {
   "cell_type": "code",
   "execution_count": 22,
   "id": "3e0c875b",
   "metadata": {
    "scrolled": false
   },
   "outputs": [
    {
     "name": "stdout",
     "output_type": "stream",
     "text": [
      "[]\n",
      "=> [0, 1, 4, 9, 16, 25, 36, 49, 64, 81]\n",
      "%2=> [0, 4, 16, 36, 64]\n"
     ]
    }
   ],
   "source": [
    "lst = [1, 2, 3, 4, 5, 6, 7, 8]\n",
    "lst[:] = []\n",
    "print(lst)\n",
    "\n",
    "# 출력식 : 입력리스트 \n",
    "squares = [ x * x for x in range(10)]  # for문 => 9까지 가라 / for문에 대하여 계산하라.\n",
    "print(\"=>\", squares)\n",
    "# 출력식 : 입력리스트 : 조건식\n",
    "squares = [ x * x for x in range(10) if x %2 == 0]  # 입력리스트에 대해 2로 나눠지는 것을 계산하라.\n",
    "print(\"%2=>\", squares)"
   ]
  },
  {
   "cell_type": "code",
   "execution_count": 67,
   "id": "a31ab480",
   "metadata": {
    "scrolled": true
   },
   "outputs": [
    {
     "name": "stdout",
     "output_type": "stream",
     "text": [
      "('apple', 'banana', 'grape')\n",
      "apple\n",
      "apple banana grape "
     ]
    },
    {
     "ename": "TypeError",
     "evalue": "'list' object is not callable",
     "output_type": "error",
     "traceback": [
      "\u001b[1;31m---------------------------------------------------------------------------\u001b[0m",
      "\u001b[1;31mTypeError\u001b[0m                                 Traceback (most recent call last)",
      "Input \u001b[1;32mIn [67]\u001b[0m, in \u001b[0;36m<cell line: 11>\u001b[1;34m()\u001b[0m\n\u001b[0;32m      9\u001b[0m \u001b[38;5;66;03m# 튜플을 리스트로\u001b[39;00m\n\u001b[0;32m     10\u001b[0m myTuple\u001b[38;5;241m=\u001b[39m(\u001b[38;5;241m1\u001b[39m,\u001b[38;5;241m2\u001b[39m,\u001b[38;5;241m3\u001b[39m,\u001b[38;5;241m4\u001b[39m)\n\u001b[1;32m---> 11\u001b[0m myList \u001b[38;5;241m=\u001b[39m\u001b[38;5;28;43mlist\u001b[39;49m\u001b[43m(\u001b[49m\u001b[43mmyTuple\u001b[49m\u001b[43m)\u001b[49m\n\u001b[0;32m     12\u001b[0m \u001b[38;5;28mprint\u001b[39m()\n\u001b[0;32m     13\u001b[0m \u001b[38;5;28mprint\u001b[39m(myList)\n",
      "\u001b[1;31mTypeError\u001b[0m: 'list' object is not callable"
     ]
    }
   ],
   "source": [
    "# 튜플 / 딕셔너리 / 세트\n",
    "# 튜플 - 변경불가 - ()\n",
    "fruits = (\"apple\", \"banana\", \"grape\")\n",
    "print(fruits)\n",
    "print(fruits[0])\n",
    "for f in fruits :\n",
    "    print(f, end=\" \")\n",
    "\n",
    "# 튜플을 리스트로\n",
    "myTuple=(1,2,3,4)\n",
    "myList =list(myTuple)\n",
    "print()\n",
    "print(myList)\n",
    "    \n",
    "# 딕셔너리 - key/value - {} 키와 값이 들어감\n",
    "\n",
    "\n",
    "# 세트 - 중복불가 - {} 값만 들어감\n",
    "numbers = {1, 2, 3}\n",
    "print(\"set=\", numbers)\n",
    "\n",
    "numbers = set([1,2,2,3,4,5,5]) # 중복을 허락하지 않음\n",
    "print(\"set=\", numbers)\n",
    "\n",
    "# 세트 함축 연산\n",
    "aList = [1,2,3,4,5,1,2]\n",
    "result = {x for x in aList if x % 2 == 0}\n",
    "print(\"x=%2\", result)\n",
    "\n",
    "# 세트 - 교집합 / 합집합 / 차집합\n",
    "A = { \"apple\", \"banana\", \"grape\"}\n",
    "B = { \"apple\", \"banana\", \"kiwi\"}\n",
    "C = A & B\n",
    "D = A | B\n",
    "E = A - B\n",
    "print(\"교집합\", C)\n",
    "print(\"합집합\", D)\n",
    "print(\"차집합\", E)"
   ]
  },
  {
   "cell_type": "code",
   "execution_count": 62,
   "id": "04dc7b4f",
   "metadata": {},
   "outputs": [
    {
     "name": "stdout",
     "output_type": "stream",
     "text": [
      "Seoul\n",
      "Washington\n",
      "Koreas USA UK \n",
      "Seoul Washington London \n",
      "Koreas : Seoul USA : Washington UK : London \n",
      "{2: 4, 4: 16, 6: 36}\n"
     ]
    }
   ],
   "source": [
    "# 딕셔너리 - {} 키:값\n",
    "capitals = {\"Koreas\":\"Seoul\",\"USA\":\"Washington\",\"UK\":\"London\"}\n",
    "print(capitals[\"Koreas\"])\n",
    "print(capitals[\"USA\"])\n",
    "for key in capitals : #  키 출력\n",
    "    print(key, end=\" \")\n",
    "print()\n",
    "for key in capitals : #  값 출력\n",
    "    print(capitals[key], end=\" \")\n",
    "print()\n",
    "for key in capitals : #  키 / 값 출력\n",
    "    print(key,\":\", capitals[key], end=\" \")\n",
    "\n",
    "print()\n",
    "# 딕셔너리 함축\n",
    "values = [1, 2, 3, 4, 5, 6]\n",
    "dic = {x : x**2 for x in values if x%2 == 0}\n",
    "print(dic)"
   ]
  }
 ],
 "metadata": {
  "kernelspec": {
   "display_name": "Python 3 (ipykernel)",
   "language": "python",
   "name": "python3"
  },
  "language_info": {
   "codemirror_mode": {
    "name": "ipython",
    "version": 3
   },
   "file_extension": ".py",
   "mimetype": "text/x-python",
   "name": "python",
   "nbconvert_exporter": "python",
   "pygments_lexer": "ipython3",
   "version": "3.9.12"
  }
 },
 "nbformat": 4,
 "nbformat_minor": 5
}
