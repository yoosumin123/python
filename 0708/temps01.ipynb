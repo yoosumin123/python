{
 "cells": [
  {
   "cell_type": "code",
   "execution_count": 1,
   "id": "a0b54c92",
   "metadata": {},
   "outputs": [
    {
     "name": "stdout",
     "output_type": "stream",
     "text": [
      "[38, 31, 33, 35, 27, 26, 25]\n",
      "[38, 31, 33, 39, 27, 26, 25]\n",
      "2816164933248\n",
      "2816164933248\n"
     ]
    }
   ],
   "source": [
    "# 리스트 복사\n",
    "temps = [38, 31, 33, 35, 27, 26, 25]\n",
    "valus = temps\n",
    "\n",
    "print(temps)\n",
    "\n",
    "valus[3] = 39\n",
    "print(temps)\n",
    "\n",
    "print(id(temps))\n",
    "print(id(valus))"
   ]
  },
  {
   "cell_type": "code",
   "execution_count": 2,
   "id": "723fa855",
   "metadata": {},
   "outputs": [
    {
     "name": "stdout",
     "output_type": "stream",
     "text": [
      "2816079129008\n",
      "2816079129008\n",
      "2816079129008\n",
      "2816079129072\n"
     ]
    }
   ],
   "source": [
    "# 파이썬은 기본적으로 객체\n",
    "# 같은 값 => 같은 주소\n",
    "\n",
    "a=5\n",
    "b=5\n",
    "print(id(a))\n",
    "print(id(b))\n",
    "\n",
    "a=5\n",
    "b=7\n",
    "print(id(a))\n",
    "print(id(b))"
   ]
  },
  {
   "cell_type": "code",
   "execution_count": null,
   "id": "0943bc36",
   "metadata": {},
   "outputs": [],
   "source": []
  }
 ],
 "metadata": {
  "kernelspec": {
   "display_name": "Python 3 (ipykernel)",
   "language": "python",
   "name": "python3"
  },
  "language_info": {
   "codemirror_mode": {
    "name": "ipython",
    "version": 3
   },
   "file_extension": ".py",
   "mimetype": "text/x-python",
   "name": "python",
   "nbconvert_exporter": "python",
   "pygments_lexer": "ipython3",
   "version": "3.9.12"
  }
 },
 "nbformat": 4,
 "nbformat_minor": 5
}
