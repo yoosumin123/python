{
 "cells": [
  {
   "cell_type": "code",
   "execution_count": 1,
   "id": "5b35e3c8",
   "metadata": {},
   "outputs": [
    {
     "name": "stdout",
     "output_type": "stream",
     "text": [
      "반지름이 3인 원의 면적= 28.26\n"
     ]
    }
   ],
   "source": [
    "# 함수 정의\n",
    "def get_area(radius) :\n",
    "    area = 3.14 * radius**2\n",
    "    return area\n",
    "\n",
    "result = get_area(3)\n",
    "print(\"반지름이 3인 원의 면적=\", result)"
   ]
  },
  {
   "cell_type": "code",
   "execution_count": 2,
   "id": "5a68c41c",
   "metadata": {},
   "outputs": [
    {
     "name": "stdout",
     "output_type": "stream",
     "text": [
      "x= 2\n",
      "y= 3\n"
     ]
    }
   ],
   "source": [
    "# 리턴값이 두개인 사용자 정의 함수\n",
    "def get_input() :\n",
    "    return 2, 3\n",
    "\n",
    "x, y = get_input()\n",
    "print(\"x=\", x)\n",
    "print(\"y=\", y)"
   ]
  },
  {
   "cell_type": "code",
   "execution_count": 4,
   "id": "ff527182",
   "metadata": {},
   "outputs": [
    {
     "name": "stdout",
     "output_type": "stream",
     "text": [
      "안녕 철수 ,좋은 아침!\n"
     ]
    }
   ],
   "source": [
    "# 디폴트 인수_1\n",
    "def greet(name, msg) : \n",
    "    print(\"안녕\", name + ' ,' + msg)\n",
    "    \n",
    "greet(\"철수\", \"좋은 아침!\")"
   ]
  },
  {
   "cell_type": "code",
   "execution_count": 5,
   "id": "7e46fb43",
   "metadata": {},
   "outputs": [
    {
     "name": "stdout",
     "output_type": "stream",
     "text": [
      "안녕 영희 ,별일없죠?\n",
      "안녕 철수 ,잘지내?\n"
     ]
    }
   ],
   "source": [
    "# 디폴트 인수_2\n",
    "def greet(name, msg=\"별일없죠?\") : \n",
    "    print(\"안녕\", name + ' ,' + msg)\n",
    "    \n",
    "greet(\"영희\")\n",
    "greet(\"철수\", \"잘지내?\")"
   ]
  }
 ],
 "metadata": {
  "kernelspec": {
   "display_name": "Python 3 (ipykernel)",
   "language": "python",
   "name": "python3"
  },
  "language_info": {
   "codemirror_mode": {
    "name": "ipython",
    "version": 3
   },
   "file_extension": ".py",
   "mimetype": "text/x-python",
   "name": "python",
   "nbconvert_exporter": "python",
   "pygments_lexer": "ipython3",
   "version": "3.9.12"
  }
 },
 "nbformat": 4,
 "nbformat_minor": 5
}
