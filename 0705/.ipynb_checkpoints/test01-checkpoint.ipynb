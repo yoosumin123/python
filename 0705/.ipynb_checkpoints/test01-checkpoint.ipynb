{
 "cells": [
  {
   "cell_type": "code",
   "execution_count": 4,
   "id": "31ef7bf4",
   "metadata": {
    "scrolled": true
   },
   "outputs": [
    {
     "name": "stdout",
     "output_type": "stream",
     "text": [
      "93 + 68=4\n",
      "틀렸어요, 하짐나 다음번에는 잘 할 수 있죠?\n"
     ]
    }
   ],
   "source": [
    "# 산수 문제\n",
    "import random \n",
    "\n",
    "flag = True\n",
    "while flag :\n",
    "    x= random.randint(1, 100)\n",
    "    y= random.randint(1, 100)\n",
    "    answer = int(input(f\"{x} + {y}=\"))\n",
    "    if answer == x + y : \n",
    "        print(\"잘 했어요\")\n",
    "    else :\n",
    "        print(\"틀렸어요, 하지만 다음번에는 잘 할 수 있죠?\")\n",
    "        flag = False"
   ]
  },
  {
   "cell_type": "code",
   "execution_count": 6,
   "id": "2d91a36f",
   "metadata": {},
   "outputs": [
    {
     "name": "stdout",
     "output_type": "stream",
     "text": [
      "*\n",
      "**\n",
      "***\n",
      "****\n",
      "*****\n"
     ]
    }
   ],
   "source": [
    "# 중첩반복문\n",
    "for y in range(1,6) : \n",
    "    for x in range(y) :\n",
    "        print(\"*\", end=\"\")\n",
    "    print(\"\")"
   ]
  },
  {
   "cell_type": "code",
   "execution_count": 7,
   "id": "85c565e7",
   "metadata": {},
   "outputs": [
    {
     "name": "stdout",
     "output_type": "stream",
     "text": [
      "첫 번째 주사위=1 두 번째 주사위=5\n",
      "첫 번째 주사위=2 두 번째 주사위=4\n",
      "첫 번째 주사위=3 두 번째 주사위=3\n",
      "첫 번째 주사위=4 두 번째 주사위=2\n",
      "첫 번째 주사위=5 두 번째 주사위=1\n"
     ]
    }
   ],
   "source": [
    "# 주사위 2개의 합이 6인 경우를 전부 출력\n",
    "\n",
    "for a in range(1, 7) : \n",
    "    for b in range(1, 7) :\n",
    "        if a + b == 6 :\n",
    "            print(f\"첫 번째 주사위={a} 두 번째 주사위={b}\")"
   ]
  },
  {
   "cell_type": "code",
   "execution_count": 10,
   "id": "0d6d5f92",
   "metadata": {},
   "outputs": [
    {
     "name": "stdout",
     "output_type": "stream",
     "text": [
      "신호등 색상을 입력 : red\n",
      "신호등 색상을 입력 : blue\n",
      "신호등 색상을 입력 : yellow\n",
      "신호등 색상을 입력 : green\n",
      "전진!!!\n"
     ]
    }
   ],
   "source": [
    "# 무한 루틴과 break\n",
    "while True : \n",
    "    light = input(\"신호등 색상을 입력 : \")\n",
    "    if light == 'green' :\n",
    "        break \n",
    "            \n",
    "print('전진!!!')"
   ]
  }
 ],
 "metadata": {
  "kernelspec": {
   "display_name": "Python 3 (ipykernel)",
   "language": "python",
   "name": "python3"
  },
  "language_info": {
   "codemirror_mode": {
    "name": "ipython",
    "version": 3
   },
   "file_extension": ".py",
   "mimetype": "text/x-python",
   "name": "python",
   "nbconvert_exporter": "python",
   "pygments_lexer": "ipython3",
   "version": "3.9.12"
  }
 },
 "nbformat": 4,
 "nbformat_minor": 5
}
