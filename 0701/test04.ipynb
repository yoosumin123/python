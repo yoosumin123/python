{
 "cells": [
  {
   "cell_type": "code",
   "execution_count": 2,
   "id": "97ecd0c3",
   "metadata": {},
   "outputs": [
    {
     "name": "stdout",
     "output_type": "stream",
     "text": [
      "상품의 가격:25000\n",
      "배송비= 0\n"
     ]
    }
   ],
   "source": [
    "# 배송비 계산 프로그램 - S/W문\n",
    "price = int(input(\"상품의 가격:\"))\n",
    "\n",
    "# 배송시를 결정한다.\n",
    "if price > 20000 :\n",
    "    shopping_cost= 0\n",
    "else :\n",
    "    shopping_cost= 3000\n",
    "    \n",
    "# 배송비를 출력\n",
    "print(\"배송비=\", shopping_cost)"
   ]
  },
  {
   "cell_type": "code",
   "execution_count": 3,
   "id": "c342e6eb",
   "metadata": {},
   "outputs": [
    {
     "name": "stdout",
     "output_type": "stream",
     "text": [
      "False\n"
     ]
    }
   ],
   "source": [
    "# 관계연산자\n",
    "s1 = \"안녕하세요\"\n",
    "s2 = \"Hello\"\n",
    "print(s1 < s2)"
   ]
  },
  {
   "cell_type": "code",
   "execution_count": 7,
   "id": "e89b59fe",
   "metadata": {
    "scrolled": true
   },
   "outputs": [
    {
     "name": "stdout",
     "output_type": "stream",
     "text": [
      "sqrt(3.0) * sqrt(3.0)은 3.0과 같다\n"
     ]
    }
   ],
   "source": [
    "# 실수와 실수 비교\n",
    "from math import sqrt\n",
    "\n",
    "n = sqrt(3.0)\n",
    "if abs(n*n == 3.0) < 0.00001 :\n",
    "    print(\"sqrt(3.0) * sqrt(3.0)은 3.0과 같다\")\n",
    "else :\n",
    "    print(\"sqrt(3.0) * sqrt(3.0)은 3.0과 같지 않다\")"
   ]
  },
  {
   "cell_type": "code",
   "execution_count": 10,
   "id": "08ff8b4d",
   "metadata": {},
   "outputs": [
    {
     "name": "stdout",
     "output_type": "stream",
     "text": [
      "81+21=100\n",
      "False\n"
     ]
    }
   ],
   "source": [
    "# 산술 문제 출제 프로그램 \n",
    "# f 문자열은 { }로 감싸서 문자열 안에 넣을 수 있음.\n",
    "import random\n",
    "\n",
    "x = random.randint(1, 100)\n",
    "y = random.randint(1, 100)\n",
    "\n",
    "answer = int(input(f\"{x}+{y}=\"))\n",
    "\n",
    "# 부울(Boolean) 변수에 결과를 저장하고 출력\n",
    "flag = (answer == (x+y))\n",
    "print(flag)"
   ]
  },
  {
   "cell_type": "code",
   "execution_count": 15,
   "id": "6e9b1ee5",
   "metadata": {
    "scrolled": true
   },
   "outputs": [
    {
     "name": "stdout",
     "output_type": "stream",
     "text": [
      "첫번째 값: 5\n",
      "두번째 값: 10\n",
      "절대값 -5\n",
      "최대값 10\n",
      "최소값 5\n"
     ]
    }
   ],
   "source": [
    "# 조건 연산자 - 삼항연산자\n",
    "x=eval(input(\"첫번째 값: \"))\n",
    "y=eval(input(\"두번째 값: \"))\n",
    "\n",
    "absolute_value = (x if x < 0 else -x) # 절대값\n",
    "max_value = (x if x > y else y) # 최대값\n",
    "min_value = (x if x < y else y) # 최소값\n",
    "\n",
    "print(\"절대값\", absolute_value )\n",
    "print(\"최대값\", max_value )\n",
    "print(\"최소값\", min_value )"
   ]
  },
  {
   "cell_type": "code",
   "execution_count": 16,
   "id": "764563a5",
   "metadata": {},
   "outputs": [
    {
     "name": "stdout",
     "output_type": "stream",
     "text": [
      "온도를 입력하세요 130\n",
      "물의 상태는 기체입니다.\n"
     ]
    }
   ],
   "source": [
    "# 온도에 따른 물의 상태\n",
    "temp = float(input(\"온도를 입력하세요 \"))\n",
    "\n",
    "if temp <= 0 :\n",
    "    print(\"물의 상태는 얼음입니다.\")\n",
    "elif temp > 0 and temp < 100 :\n",
    "    print(\"물의 상태는 액체입니다.\")\n",
    "else : \n",
    "    print(\"물의 상태는 기체입니다.\")"
   ]
  }
 ],
 "metadata": {
  "kernelspec": {
   "display_name": "Python 3 (ipykernel)",
   "language": "python",
   "name": "python3"
  },
  "language_info": {
   "codemirror_mode": {
    "name": "ipython",
    "version": 3
   },
   "file_extension": ".py",
   "mimetype": "text/x-python",
   "name": "python",
   "nbconvert_exporter": "python",
   "pygments_lexer": "ipython3",
   "version": "3.9.12"
  }
 },
 "nbformat": 4,
 "nbformat_minor": 5
}
