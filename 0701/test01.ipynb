{
 "cells": [
  {
   "cell_type": "code",
   "execution_count": 2,
   "id": "97ecd0c3",
   "metadata": {},
   "outputs": [
    {
     "name": "stdout",
     "output_type": "stream",
     "text": [
      "K과P과L\n"
     ]
    }
   ],
   "source": [
    "# 문자열은 배열로 처리함 - 한칸이라도 들여쓰기하면 오류 발생\n",
    "a= \"Kim\"\n",
    "b= \"Park\"\n",
    "c= \"Lee\"\n",
    "first =a[0] + \"과\" +b[0] + \"과\"+ c[0]\n",
    "print(first)"
   ]
  },
  {
   "cell_type": "code",
   "execution_count": 3,
   "id": "842a11f3",
   "metadata": {},
   "outputs": [
    {
     "name": "stdout",
     "output_type": "stream",
     "text": [
      "harry parter\n"
     ]
    }
   ],
   "source": [
    "# 파이썬은 모든 변수를 오브젝트로 선언함.\n",
    "\n",
    "name = \"Harry Parter\"\n",
    "lower_name =name.lower()\n",
    "print(lower_name)\n",
    "upper_name = name.upper()"
   ]
  },
  {
   "cell_type": "code",
   "execution_count": null,
   "id": "b2707e88",
   "metadata": {},
   "outputs": [],
   "source": [
    "a=5\n",
    "a."
   ]
  }
 ],
 "metadata": {
  "kernelspec": {
   "display_name": "Python 3 (ipykernel)",
   "language": "python",
   "name": "python3"
  },
  "language_info": {
   "codemirror_mode": {
    "name": "ipython",
    "version": 3
   },
   "file_extension": ".py",
   "mimetype": "text/x-python",
   "name": "python",
   "nbconvert_exporter": "python",
   "pygments_lexer": "ipython3",
   "version": "3.9.12"
  }
 },
 "nbformat": 4,
 "nbformat_minor": 5
}
