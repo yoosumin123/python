{
 "cells": [
  {
   "cell_type": "code",
   "execution_count": 2,
   "id": "97ecd0c3",
   "metadata": {},
   "outputs": [
    {
     "name": "stdout",
     "output_type": "stream",
     "text": [
      "상품의 가격:25000\n",
      "배송비= 0\n"
     ]
    }
   ],
   "source": [
    "# 배송비 계산 프로그램\n",
    "price = int(input(\"상품의 가격:\"))\n",
    "\n",
    "# 배송시를 결정한다.\n",
    "if price > 20000 :\n",
    "    shopping_cost= 0\n",
    "else :\n",
    "    shopping_cost= 3000\n",
    "    \n",
    "# 배송비를 출력\n",
    "print(\"배송비=\", shopping_cost)"
   ]
  }
 ],
 "metadata": {
  "kernelspec": {
   "display_name": "Python 3 (ipykernel)",
   "language": "python",
   "name": "python3"
  },
  "language_info": {
   "codemirror_mode": {
    "name": "ipython",
    "version": 3
   },
   "file_extension": ".py",
   "mimetype": "text/x-python",
   "name": "python",
   "nbconvert_exporter": "python",
   "pygments_lexer": "ipython3",
   "version": "3.9.12"
  }
 },
 "nbformat": 4,
 "nbformat_minor": 5
}
