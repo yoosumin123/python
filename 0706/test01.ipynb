{
 "cells": [
  {
   "cell_type": "code",
   "execution_count": 11,
   "id": "c6b6e585",
   "metadata": {},
   "outputs": [],
   "source": [
    "# 변수의 내용을 나중에 작성하고자 하는 경우\n",
    "def add() :\n",
    "    pass\n",
    "\n",
    "def sub() :\n",
    "    pass"
   ]
  },
  {
   "cell_type": "code",
   "execution_count": 10,
   "id": "69941cb0",
   "metadata": {
    "scrolled": false
   },
   "outputs": [
    {
     "name": "stdout",
     "output_type": "stream",
     "text": [
      "반지름이 3인 원의 면적= 28.26\n"
     ]
    }
   ],
   "source": [
    "# 함수의 실행 순서 - 함수선언이 아래에 있어 오류 발생\n",
    "result = get_area(3)\n",
    "print(\"반지름이 3인 원의 면적=\", result)\n",
    "\n",
    "def get_area(radius) :\n",
    "    area = 3.14*radius**2\n",
    "    return area"
   ]
  },
  {
   "cell_type": "code",
   "execution_count": 5,
   "id": "fcea358d",
   "metadata": {},
   "outputs": [
    {
     "name": "stdout",
     "output_type": "stream",
     "text": [
      "반지름이 3인 원의 면적= 28.26\n"
     ]
    }
   ],
   "source": [
    "# 함수의 실행 순서 - 먼저 호출하는 곳에 함수를 선언하고\n",
    "# 선언한 함수의 실행은 맨 아래에서 함.\n",
    "\n",
    "def main() :\n",
    "    result = get_area(3)\n",
    "    print(\"반지름이 3인 원의 면적=\", result)\n",
    "\n",
    "def get_area(radius) :\n",
    "    area = 3.14*radius**2\n",
    "    return area\n",
    "\n",
    "main()"
   ]
  },
  {
   "cell_type": "code",
   "execution_count": 6,
   "id": "00fb5101",
   "metadata": {
    "scrolled": true
   },
   "outputs": [
    {
     "name": "stdout",
     "output_type": "stream",
     "text": [
      "20cm 피자2개의 면적: 2512.0\n",
      "30cm 피자1개의 면적: 2826.0\n"
     ]
    }
   ],
   "source": [
    "# 피자의 면적을 비교하는 프로그램\n",
    "\n",
    "def main() :\n",
    "    print(\"20cm 피자2개의 면적:\", get_area(20) + get_area(20))\n",
    "    print(\"30cm 피자1개의 면적:\", get_area(30))\n",
    "    \n",
    "# 원의 면적 계산\n",
    "def get_area(radius) :\n",
    "    if radius > 0 :\n",
    "        area = 3.14*radius**2\n",
    "    else : \n",
    "        area = 0\n",
    "    return area\n",
    "\n",
    "main()"
   ]
  }
 ],
 "metadata": {
  "kernelspec": {
   "display_name": "Python 3 (ipykernel)",
   "language": "python",
   "name": "python3"
  },
  "language_info": {
   "codemirror_mode": {
    "name": "ipython",
    "version": 3
   },
   "file_extension": ".py",
   "mimetype": "text/x-python",
   "name": "python",
   "nbconvert_exporter": "python",
   "pygments_lexer": "ipython3",
   "version": "3.9.12"
  }
 },
 "nbformat": 4,
 "nbformat_minor": 5
}
