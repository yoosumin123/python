{
 "cells": [
  {
   "cell_type": "code",
   "execution_count": 1,
   "id": "0ebc5d26",
   "metadata": {},
   "outputs": [
    {
     "name": "stdout",
     "output_type": "stream",
     "text": [
      "동전 던지기 게임을 시작합니다\n",
      "앞면입니다.\n",
      "게임이 종료되었습니다.\n"
     ]
    }
   ],
   "source": [
    "# 동전 던지기 게임\n",
    "import random\n",
    "\n",
    "print(\"동전 던지기 게임을 시작합니다\")\n",
    "coin= random.randrange(2)\n",
    "if coin == 0 :\n",
    "    print(\"앞면입니다.\")\n",
    "else :\n",
    "    print(\"뒷면입니다.\")\n",
    "print(\"게임이 종료되었습니다.\")"
   ]
  },
  {
   "cell_type": "code",
   "execution_count": 2,
   "id": "aedea2f6",
   "metadata": {
    "scrolled": true
   },
   "outputs": [
    {
     "name": "stdout",
     "output_type": "stream",
     "text": [
      "배송지(현재는 korea와 us만 가능)us\n",
      "상품의 가격:12000\n",
      "배송비 = 8000\n"
     ]
    }
   ],
   "source": [
    "# 배송비 프로그렘\n",
    "country = input(\"배송지(현재는 korea와 us만 가능)\")\n",
    "price = int(input(\"상품의 가격:\"))\n",
    "\n",
    "# 배송비를 결정한다\n",
    "if country == \"korea\" :\n",
    "    if price >= 20000 :\n",
    "        shiping_cost = 0\n",
    "    else :\n",
    "        shiping_cost = 3000\n",
    "else : \n",
    "    if price >= 100000 :\n",
    "        shiping_cost = 0\n",
    "    else :\n",
    "        shiping_cost = 8000\n",
    "        \n",
    "#배송비를 출력\n",
    "print(\"배송비 =\", shiping_cost)"
   ]
  },
  {
   "cell_type": "code",
   "execution_count": 3,
   "id": "43b18325",
   "metadata": {
    "scrolled": false
   },
   "outputs": [
    {
     "name": "stdout",
     "output_type": "stream",
     "text": [
      "리히터 규모를 입력:4.0\n",
      "빈약한 건물에 큰 피해가 있습니다.\n"
     ]
    }
   ],
   "source": [
    "# 리히터 규모를 받아서 피해정도를 출력\n",
    "\n",
    "scale = float(input(\"리히터 규모를 입력:\"))\n",
    "\n",
    "if scale >= 8.0 :\n",
    "    print(\"대부분의 구조물이 파괴됩니다.\")\n",
    "elif scale >= 7.0 :\n",
    "    print(\"지표면에 균열이 발생합니다.\")\n",
    "elif scale >= 4.0 :\n",
    "    print(\"빈약한 건물에 큰 피해가 있습니다.\")\n",
    "elif scale >= 2.0 :\n",
    "    print(\"물건들이 흔들리거나 떨어집니다.\")\n",
    "else :\n",
    "    print(\"지진계에 의해서만 탐지 가능합니다.\")"
   ]
  },
  {
   "cell_type": "code",
   "execution_count": 4,
   "id": "83f153f5",
   "metadata": {
    "scrolled": true
   },
   "outputs": [
    {
     "name": "stdout",
     "output_type": "stream",
     "text": [
      "나 파이썬이야!!!\n",
      "나 파이썬이야!!!\n",
      "나 파이썬이야!!!\n",
      "나 파이썬이야!!!\n",
      "나 파이썬이야!!!\n"
     ]
    }
   ],
   "source": [
    "# 파이썬의 for문 특징 - in -> range\n",
    "\n",
    "for i in range(5) :\n",
    "    print(\"나 파이썬이야!!!\")"
   ]
  },
  {
   "cell_type": "code",
   "execution_count": 5,
   "id": "8195e208",
   "metadata": {
    "scrolled": true
   },
   "outputs": [
    {
     "name": "stdout",
     "output_type": "stream",
     "text": [
      "[1, 2, 6, 3]\n"
     ]
    }
   ],
   "source": [
    "# 파이썬은 배열이 존재하지 않고 리스트를 사용함.\n",
    "List = []\n",
    "List.append(1)\n",
    "List.append(2)\n",
    "List.append(6)\n",
    "List.append(3)\n",
    "\n",
    "print(List)"
   ]
  },
  {
   "cell_type": "code",
   "execution_count": 6,
   "id": "c7dce526",
   "metadata": {
    "scrolled": true
   },
   "outputs": [
    {
     "name": "stdout",
     "output_type": "stream",
     "text": [
      "[1, '하나', 6, 7.4]\n"
     ]
    }
   ],
   "source": [
    "# 배열이 아닌 리스트인 이유 증명\n",
    "List = []\n",
    "List.append(1)\n",
    "List.append(\"하나\")\n",
    "List.append(6)\n",
    "List.append(7.4)\n",
    "\n",
    "print(List)"
   ]
  },
  {
   "cell_type": "code",
   "execution_count": 7,
   "id": "e4edda10",
   "metadata": {},
   "outputs": [
    {
     "name": "stdout",
     "output_type": "stream",
     "text": [
      "7.4\n",
      "7.4\n"
     ]
    }
   ],
   "source": [
    "print(List[3])\n",
    "print(List[-1])"
   ]
  },
  {
   "cell_type": "code",
   "execution_count": 8,
   "id": "d9e1e9cc",
   "metadata": {
    "scrolled": false
   },
   "outputs": [
    {
     "name": "stdout",
     "output_type": "stream",
     "text": [
      "1\n",
      "하나\n",
      "6\n",
      "7.4\n"
     ]
    }
   ],
   "source": [
    "# 리스트 출력\n",
    "for i in range(4) :\n",
    "    print(List[i]) "
   ]
  },
  {
   "cell_type": "code",
   "execution_count": 9,
   "id": "413b0230",
   "metadata": {},
   "outputs": [
    {
     "name": "stdout",
     "output_type": "stream",
     "text": [
      "1\n",
      "하나\n",
      "6\n",
      "7.4\n"
     ]
    }
   ],
   "source": [
    "# 리스트 모두 출력\n",
    "for i in List :\n",
    "    print(i)"
   ]
  },
  {
   "cell_type": "code",
   "execution_count": 10,
   "id": "b6d11060",
   "metadata": {
    "scrolled": true
   },
   "outputs": [
    {
     "name": "stdout",
     "output_type": "stream",
     "text": [
      "10 9 8 7 6 5 4 3 2 1 "
     ]
    }
   ],
   "source": [
    "# 숫자를 역으로 출력\n",
    "for i in range(10, 0 ,-1) : \n",
    "    print(i, end=\" \")"
   ]
  },
  {
   "cell_type": "code",
   "execution_count": 11,
   "id": "4b1c0d7f",
   "metadata": {},
   "outputs": [
    {
     "name": "stdout",
     "output_type": "stream",
     "text": [
      "9 * 2 = 18\n",
      "9 * 3 = 27\n",
      "9 * 4 = 36\n",
      "9 * 5 = 45\n",
      "9 * 6 = 54\n",
      "9 * 7 = 63\n",
      "9 * 8 = 72\n",
      "9 * 9 = 81\n"
     ]
    }
   ],
   "source": [
    "#  구구셈\n",
    "for i in range(2, 10) : \n",
    "    print(\"9 *\", i, \"=\", 9*i)"
   ]
  },
  {
   "cell_type": "code",
   "execution_count": 12,
   "id": "5ef267b3",
   "metadata": {
    "scrolled": true
   },
   "outputs": [
    {
     "name": "stdout",
     "output_type": "stream",
     "text": [
      "정수를 입력 :3\n",
      "3 !은 6 이다\n"
     ]
    }
   ],
   "source": [
    "# 팩토리얼 계산\n",
    "n = int(input(\"정수를 입력 :\"))\n",
    "fact = 1\n",
    "for i in range(1, n+1) :\n",
    "    fact = fact * i\n",
    "print(n, \"!은\", fact, \"이다\")"
   ]
  },
  {
   "cell_type": "code",
   "execution_count": null,
   "id": "e58be922",
   "metadata": {},
   "outputs": [],
   "source": [
    "# n-각형 그리기\n",
    "import turtle\n",
    "t = turtle.Turtle()\n",
    "t.shape(\"turtle\")\n",
    "\n",
    "s = turtle.textinput(\"\",\"몇각형을 원하시나요?:\")\n",
    "n = int(s)\n",
    "\n",
    "for i in range(n):\n",
    "    t.forward(5)\n",
    "    t.left(360/n)\n",
    "    \n",
    "turtle.mainloop()\n",
    "turtle.bye()"
   ]
  },
  {
   "cell_type": "markdown",
   "id": "d66ca1c0",
   "metadata": {},
   "source": [
    "$$f(x) = x^{2}-x-1$$"
   ]
  },
  {
   "cell_type": "code",
   "execution_count": 16,
   "id": "35fc73cc",
   "metadata": {},
   "outputs": [
    {
     "name": "stdout",
     "output_type": "stream",
     "text": [
      "방정식의 해는  1.62\n"
     ]
    }
   ],
   "source": [
    "# 방정식의 해 계산\n",
    "COUNT = 100\n",
    "START = 1.0\n",
    "END = 2.0\n",
    "\n",
    "for i in range(COUNT) : \n",
    "    x = START + i*((END-START)/COUNT)\n",
    "    f = (x**2 - x -1)\n",
    "    if abs(f-0.0) < 0.01 : \n",
    "        print(\"방정식의 해는 \", x)"
   ]
  },
  {
   "cell_type": "code",
   "execution_count": 17,
   "id": "e394f52e",
   "metadata": {},
   "outputs": [
    {
     "name": "stdout",
     "output_type": "stream",
     "text": [
      "합계 : 55\n"
     ]
    }
   ],
   "source": [
    "# while 사용 예제\n",
    "# 제어 변수를 선언\n",
    "i = 1\n",
    "sum = 0\n",
    "\n",
    "# i 값이 10보다 작거나 같으면 반복\n",
    "while i <= 10 : \n",
    "    sum = sum + i\n",
    "    i = i+ 1\n",
    "    \n",
    "print(\"합계 :\", sum)"
   ]
  }
 ],
 "metadata": {
  "kernelspec": {
   "display_name": "Python 3 (ipykernel)",
   "language": "python",
   "name": "python3"
  },
  "language_info": {
   "codemirror_mode": {
    "name": "ipython",
    "version": 3
   },
   "file_extension": ".py",
   "mimetype": "text/x-python",
   "name": "python",
   "nbconvert_exporter": "python",
   "pygments_lexer": "ipython3",
   "version": "3.9.12"
  }
 },
 "nbformat": 4,
 "nbformat_minor": 5
}
